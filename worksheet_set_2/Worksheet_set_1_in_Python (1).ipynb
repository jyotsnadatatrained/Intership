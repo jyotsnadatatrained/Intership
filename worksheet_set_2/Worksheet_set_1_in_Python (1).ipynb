{
 "cells": [
  {
   "cell_type": "code",
   "execution_count": 1,
   "id": "835ff4cb",
   "metadata": {},
   "outputs": [
    {
     "name": "stdout",
     "output_type": "stream",
     "text": [
      "Enter any number->4\n",
      "The factorial of the given number  4 is 24\n"
     ]
    }
   ],
   "source": [
    "#Question11 Write a python program to find the factorial of a number.\n",
    "\n",
    "num = int(input('Enter any number->'))\n",
    "factorial = 1\n",
    "\n",
    "if num<0:\n",
    "    print('No negative numbers can calculate factorial')\n",
    "elif num == 0:\n",
    "    print('Here the factorial of 0 is 1')\n",
    "else:\n",
    "    for i in range(1,num+1):\n",
    "        factorial = factorial*i\n",
    "    print('The factorial of the given number ',num,'is',factorial)"
   ]
  },
  {
   "cell_type": "code",
   "execution_count": 2,
   "id": "c20ee58f",
   "metadata": {},
   "outputs": [
    {
     "name": "stdout",
     "output_type": "stream",
     "text": [
      "Enter your number: 16\n",
      "16 This is a composite number.\n"
     ]
    }
   ],
   "source": [
    "#question12 Write a python program to find whether a number is prime or composite.\n",
    "\n",
    "import math\n",
    "\n",
    "def prime_or_composite(number):\n",
    "    if number <= 1:\n",
    "        print(f'{number} The no is neither composite nor prime.')\n",
    "        return\n",
    "    for i in range(2, int(math.sqrt(number)) + 1):\n",
    "        print(f'{number} This is a composite number.')\n",
    "        return\n",
    "    print(f'{number} is a prime number.')\n",
    "number = int(input('Enter your number: '))\n",
    "prime_or_composite(number)\n",
    "\n"
   ]
  },
  {
   "cell_type": "code",
   "execution_count": 2,
   "id": "87d6f428",
   "metadata": {},
   "outputs": [
    {
     "name": "stdout",
     "output_type": "stream",
     "text": [
      "Enter your string: MAM\n",
      "The given string is a palindrome string\n"
     ]
    }
   ],
   "source": [
    "#question13 Write a python program to check whether a given string is palindrome or not.\n",
    "\n",
    "x = input('Enter your string: ')\n",
    "y = x[-1::-1]\n",
    "if(x==y):\n",
    "    print('The given string is a palindrome string')\n",
    "else:\n",
    "    print('The given string is not a palindrome string')"
   ]
  },
  {
   "cell_type": "code",
   "execution_count": 3,
   "id": "5717f8bf",
   "metadata": {},
   "outputs": [
    {
     "name": "stdout",
     "output_type": "stream",
     "text": [
      "Length of the third side of the triangle is 6.4031242374328485\n"
     ]
    }
   ],
   "source": [
    "#question14. Write a Python program to get the third side of right-angled triangle from two given sides.\n",
    "\n",
    "import math\n",
    "def third_side_of_right_triangle(a,b):\n",
    "    c = math.sqrt(a**2 + b**2)\n",
    "    return c\n",
    "a = 5\n",
    "b = 4\n",
    "c = third_side_of_right_triangle(a,b)\n",
    "print(f'Length of the third side of the triangle is {c}')"
   ]
  },
  {
   "cell_type": "code",
   "execution_count": 1,
   "id": "72a89356",
   "metadata": {},
   "outputs": [
    {
     "name": "stdout",
     "output_type": "stream",
     "text": [
      "Enter your string: Hey There !\n",
      "The no of frequency in each character of the string is....\n",
      "H appears 1 times.\n",
      "e appears 3 times.\n",
      "y appears 1 times.\n",
      "  appears 2 times.\n",
      "T appears 1 times.\n",
      "h appears 1 times.\n",
      "r appears 1 times.\n",
      "! appears 1 times.\n"
     ]
    }
   ],
   "source": [
    "#question15. Write a python program to print the frequency of each of the characters present in a given string.\n",
    "\n",
    "string = input('Enter your string: ')\n",
    "count = {}\n",
    "for letter in string:\n",
    "    if letter in count:\n",
    "        count[letter] += 1\n",
    "    else:\n",
    "        count[letter] = 1\n",
    "print('The no of frequency in each character of the string is....')\n",
    "for key, value in count.items():\n",
    "    print(f'{key} appears {value} times.')\n",
    "    "
   ]
  },
  {
   "cell_type": "code",
   "execution_count": null,
   "id": "eba43cf9",
   "metadata": {},
   "outputs": [],
   "source": []
  }
 ],
 "metadata": {
  "kernelspec": {
   "display_name": "Python 3 (ipykernel)",
   "language": "python",
   "name": "python3"
  },
  "language_info": {
   "codemirror_mode": {
    "name": "ipython",
    "version": 3
   },
   "file_extension": ".py",
   "mimetype": "text/x-python",
   "name": "python",
   "nbconvert_exporter": "python",
   "pygments_lexer": "ipython3",
   "version": "3.10.9"
  }
 },
 "nbformat": 4,
 "nbformat_minor": 5
}
