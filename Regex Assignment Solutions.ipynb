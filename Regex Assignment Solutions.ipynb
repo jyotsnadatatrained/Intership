{
 "cells": [
  {
   "cell_type": "code",
   "execution_count": 39,
   "id": "1fa0e53a",
   "metadata": {},
   "outputs": [
    {
     "name": "stdout",
     "output_type": "stream",
     "text": [
      "Hi:there::my:name:is:Jyotsna:\n"
     ]
    }
   ],
   "source": [
    "#Question 1- Write a Python program to replace all occurrences of a space, comma, or dot with a colon.\n",
    "#Sample Text- 'Python Exercises, PHP exercises.'\n",
    "#Expected Output: Python:Exercises::PHP:exercises:\n",
    "\n",
    "#solution\n",
    "\n",
    "import re\n",
    "\n",
    "string = 'Hi there, my name is Jyotsna.'\n",
    "pattern = r'[\\s.,]'\n",
    "\n",
    "replace = ':'\n",
    "result = re.sub(pattern,replace,string)\n",
    "print(result)"
   ]
  },
  {
   "cell_type": "code",
   "execution_count": 24,
   "id": "d0bfff96",
   "metadata": {},
   "outputs": [
    {
     "name": "stdout",
     "output_type": "stream",
     "text": [
      "\n",
      " Words starting with a or e \n",
      " --------------------------------------------------\n",
      "['An', 'elephant', 'eating', 'an', 'apple']\n"
     ]
    }
   ],
   "source": [
    "#Question 2- Write a Python program to find all words starting with 'a' or 'e' in a given string.\n",
    "\n",
    "import re\n",
    "\n",
    "string = 'An elephant is eating an apple'\n",
    "pattern = r'\\b[AaEe]\\w+\\b'\n",
    "result = re.findall(pattern,string)\n",
    "print('\\n Words starting with a or e \\n','-'*50)\n",
    "print(result)"
   ]
  },
  {
   "cell_type": "code",
   "execution_count": 28,
   "id": "de955e62",
   "metadata": {},
   "outputs": [
    {
     "name": "stdout",
     "output_type": "stream",
     "text": [
      "['Happy', 'weds', 'dogs']\n"
     ]
    }
   ],
   "source": [
    "#Question 3- Create a function in python to find all words that are at least 4 characters long in a string.\n",
    "#The use of the re.compile() method is mandatory.\n",
    "\n",
    "string = 'Happy weds dogs and cat'\n",
    "pattern = re.compile(r'\\b\\w{4,}\\b')\n",
    "result = pattern.findall(string)\n",
    "print(result)"
   ]
  },
  {
   "cell_type": "code",
   "execution_count": 33,
   "id": "c67cf651",
   "metadata": {},
   "outputs": [
    {
     "name": "stdout",
     "output_type": "stream",
     "text": [
      "['This', 'the', 'best', 'time', 'life', 'cheers', 'and']\n"
     ]
    }
   ],
   "source": [
    "#Question 4- Create a function in python to find all three, four, and five character words in a string.\n",
    "#The use of the re.compile() method is mandatory.\n",
    "\n",
    "string = 'This is the best time of my life so cheers and be grateful'\n",
    "pattern = re.compile(r'\\b\\w{3,6}\\b')\n",
    "result = pattern.findall(string)\n",
    "print(result)"
   ]
  },
  {
   "cell_type": "code",
   "execution_count": 131,
   "id": "bc6b00b4",
   "metadata": {
    "scrolled": true
   },
   "outputs": [],
   "source": [
    "#question 5 Create a function in Python to remove the parenthesis in a list of strings. \n",
    "#The use of the re.compile() method is mandatory.\n",
    "\n",
    "\n"
   ]
  },
  {
   "cell_type": "code",
   "execution_count": 12,
   "id": "a38f46b6",
   "metadata": {
    "scrolled": true
   },
   "outputs": [
    {
     "name": "stdout",
     "output_type": "stream",
     "text": [
      "google\n",
      "float\n",
      "\n"
     ]
    }
   ],
   "source": [
    "#Question 6- Write a python program to remove the parenthesis area from the text stored \n",
    "#in the text file using Regular Expression.\n",
    "\n",
    "import re\n",
    "pattern = r' ?\\([^)]+\\)'\n",
    "strings = [\"google (.com)\", \"float (.com)\", \" (.com)\"]\n",
    "for string in strings:\n",
    "    print(re.sub(r' \\([^)]+\\)', '',string))"
   ]
  },
  {
   "cell_type": "code",
   "execution_count": 44,
   "id": "0c52c804",
   "metadata": {},
   "outputs": [
    {
     "name": "stdout",
     "output_type": "stream",
     "text": [
      "['', 'Hi', 'My', 'Name', 'Is', 'Nidhi']\n"
     ]
    }
   ],
   "source": [
    "#Question 7- Write a regular expression in Python to split a string into uppercase letters.\n",
    "\n",
    "import re\n",
    "\n",
    "string = \"HiMyNameIsNidhi\"\n",
    "result = re.split(r\"(?=[A-Z])\", string)\n",
    "print(result)"
   ]
  },
  {
   "cell_type": "code",
   "execution_count": 49,
   "id": "2965fada",
   "metadata": {},
   "outputs": [
    {
     "name": "stdout",
     "output_type": "stream",
     "text": [
      "There are 2 books  and 4 apples  on the table\n"
     ]
    }
   ],
   "source": [
    "#Question 8- Create a function in python to insert spaces between words starting with numbers.\n",
    "\n",
    "string = 'There are 2books and 4apples on the table'\n",
    "pattern = r'(\\b\\d+)(\\w+)'\n",
    "replace = r'\\1 \\2 '\n",
    "result = re.sub(pattern, replace, string)\n",
    "print(result)"
   ]
  },
  {
   "cell_type": "code",
   "execution_count": 8,
   "id": "897cc50b",
   "metadata": {},
   "outputs": [
    {
     "name": "stdout",
     "output_type": "stream",
     "text": [
      " This Is An Example123\n"
     ]
    }
   ],
   "source": [
    "#Question 9- Create a function in python to insert spaces between words starting with capital letters or with numbers.\n",
    "\n",
    "#google\n",
    "\n",
    "import re\n",
    "\n",
    "def insert_spaces(text):\n",
    "    # Use regex to find words starting with capital letters or numbers\n",
    "    pattern = r'([A-Z][a-z0-9]+|[0-9]+)'\n",
    "    matches = re.findall(pattern, text)\n",
    "    \n",
    "    # Insert spaces before the matched words\n",
    "    for match in matches:\n",
    "        text = re.sub(match, ' ' + match, text)\n",
    "    \n",
    "    return text\n",
    "text = \"ThisIsAnExample123\"\n",
    "formatted_text = insert_spaces(text)\n",
    "print(formatted_text)\n"
   ]
  },
  {
   "cell_type": "code",
   "execution_count": 133,
   "id": "2f985e94",
   "metadata": {},
   "outputs": [],
   "source": [
    "#ques10\n",
    "\n",
    "\n"
   ]
  },
  {
   "cell_type": "code",
   "execution_count": 4,
   "id": "1c14f333",
   "metadata": {},
   "outputs": [
    {
     "name": "stdout",
     "output_type": "stream",
     "text": [
      "<re.Match object; span=(0, 14), match='Jyotsna_jha123'>\n"
     ]
    }
   ],
   "source": [
    "\n",
    "#Question 11- Write a Python program to match a string that contains only upper and lowercase letters, \n",
    "#numbers, and underscores.\n",
    "\n",
    "string = \"Jyotsna_jha123\"\n",
    "pattern = '^[A-Za-z0-9_]*$'\n",
    "result = re.search(pattern, string)\n",
    "print(result)\n",
    "\n"
   ]
  },
  {
   "cell_type": "code",
   "execution_count": 6,
   "id": "d0bfeed0",
   "metadata": {},
   "outputs": [
    {
     "name": "stdout",
     "output_type": "stream",
     "text": [
      "<re.Match object; span=(0, 1), match='2'>\n"
     ]
    }
   ],
   "source": [
    "#Question 12- Write a Python program where a string will start with a specific number. doubt\n",
    "\n",
    "string = '2djbjcdnknck'\n",
    "pattern = r'^2'\n",
    "result = re.match(pattern,string)\n",
    "print(result)"
   ]
  },
  {
   "cell_type": "code",
   "execution_count": 24,
   "id": "08634f8b",
   "metadata": {},
   "outputs": [
    {
     "name": "stdout",
     "output_type": "stream",
     "text": [
      "234.1.23.145.546\n"
     ]
    }
   ],
   "source": [
    "#Question 13- Write a Python program to remove leading zeros from an IP address\n",
    "\n",
    "import re\n",
    "string = '234.001.023.145.546'\n",
    "pattern = r'\\b0+(\\d)'\n",
    "replace = r'\\1'\n",
    "result = re.sub(pattern,replace,string)\n",
    "print(result)"
   ]
  },
  {
   "cell_type": "code",
   "execution_count": null,
   "id": "5e1e1a3e",
   "metadata": {},
   "outputs": [],
   "source": [
    "#Question 14- Write a regular expression in python to match a date string in the form of \n",
    "#Month name followed by day number and year stored in a text file.\n",
    "\n",
    "\n"
   ]
  },
  {
   "cell_type": "code",
   "execution_count": 67,
   "id": "884f0873",
   "metadata": {},
   "outputs": [
    {
     "name": "stdout",
     "output_type": "stream",
     "text": [
      "mat The cat and rat are on the mat and the car is parked outside.\n",
      "Matched\n",
      "cat The cat and rat are on the mat and the car is parked outside.\n",
      "Matched\n",
      "rat The cat and rat are on the mat and the car is parked outside.\n",
      "Matched\n",
      "door The cat and rat are on the mat and the car is parked outside.\n",
      "Not Matched\n"
     ]
    }
   ],
   "source": [
    "#Question 15- Write a Python program to search some literals strings in a string. \n",
    "\n",
    "import re\n",
    "literals = ['mat','cat','rat','door']\n",
    "string = 'The cat and rat are on the mat and the car is parked outside.'\n",
    "for literal in literals:\n",
    "    print(literal,string)\n",
    "    if re.search(literal, string):\n",
    "        print('Matched')\n",
    "    else:\n",
    "        print('Not Matched')"
   ]
  },
  {
   "cell_type": "code",
   "execution_count": 27,
   "id": "fc84156e",
   "metadata": {},
   "outputs": [
    {
     "name": "stdout",
     "output_type": "stream",
     "text": [
      "Searched for \"sat\" in \"The cat sat on a mat\" from 8 to 11 \n"
     ]
    }
   ],
   "source": [
    "#Question 16- Write a Python program to search a literals string in a string and \n",
    "#also find the location within the original string where the pattern occurs\n",
    "string = 'The cat sat on a mat'\n",
    "pattern = 'sat'\n",
    "result = re.search(pattern, string)\n",
    "a = result.start()\n",
    "b = result.end()\n",
    "print('Searched for \"%s\" in \"%s\" from %d to %d ' % \\\n",
    "     (pattern, string, a, b))\n"
   ]
  },
  {
   "cell_type": "code",
   "execution_count": 46,
   "id": "06c2b337",
   "metadata": {},
   "outputs": [
    {
     "name": "stdout",
     "output_type": "stream",
     "text": [
      "['good', 'good']\n"
     ]
    }
   ],
   "source": [
    "#Question 17- Write a Python program to find the substrings within a string.\n",
    "\n",
    "\n",
    "string = 'This is good, Life is good, Tea is perfect'\n",
    "pattern = 'good'\n",
    "result = re.findall(pattern,string)\n",
    "print(result)\n"
   ]
  },
  {
   "cell_type": "code",
   "execution_count": 30,
   "id": "632bca65",
   "metadata": {},
   "outputs": [
    {
     "name": "stdout",
     "output_type": "stream",
     "text": [
      "Match \"good\" at 8:12\n",
      "Match \"good\" at 22:26\n"
     ]
    }
   ],
   "source": [
    "#Question 18- Write a Python program to find the occurrence and position of the substrings within a string.\n",
    "import re\n",
    "\n",
    "string = 'This is good, Life is good, Tea is perfect'\n",
    "pattern = 'good'\n",
    "for search in re.finditer(pattern, string):\n",
    "    a = search.start()\n",
    "    b = search.end()\n",
    "    print('Match \"%s\" at %d:%d' % (string[a:b], a, b))\n"
   ]
  },
  {
   "cell_type": "code",
   "execution_count": 38,
   "id": "fc8741fb",
   "metadata": {},
   "outputs": [
    {
     "name": "stdout",
     "output_type": "stream",
     "text": [
      "21-11-2023\n"
     ]
    }
   ],
   "source": [
    "#Question 19- Write a Python program to convert a date of yyyy-mm-dd format to dd-mm-yyyy format.\n",
    "\n",
    "string_date = '2023-11-21'\n",
    "pattern = r'(\\d{4})-(\\d{2})-(\\d{2})'\n",
    "replace = r'\\3-\\2-\\1'\n",
    "result = re.sub(pattern, replace, string_date)\n",
    "print(result)"
   ]
  },
  {
   "cell_type": "code",
   "execution_count": 12,
   "id": "ec799160",
   "metadata": {},
   "outputs": [
    {
     "name": "stdout",
     "output_type": "stream",
     "text": [
      "['10.5', '20.75', '30.8']\n"
     ]
    }
   ],
   "source": [
    "#Question 20- Create a function in python to find all decimal numbers with a precision of 1 or 2 in a string. \n",
    "#The use of the re.compile() method is mandatory\n",
    "string = 'The prices are $10.5, $20.75, and $30.8.'\n",
    "pattern = re.compile('\\d+\\.\\d{1,2}')\n",
    "result = re.findall(pattern, string)\n",
    "print(result)\n"
   ]
  },
  {
   "cell_type": "code",
   "execution_count": 50,
   "id": "f03209b3",
   "metadata": {},
   "outputs": [
    {
     "name": "stdout",
     "output_type": "stream",
     "text": [
      "4\n",
      " Index position of the given number: 7\n",
      "3\n",
      " Index position of the given number: 20\n"
     ]
    }
   ],
   "source": [
    "#Question 21- Write a Python program to separate and print the numbers and their position of a given string.\n",
    "\n",
    "string = 'He has 4 apples and 3 bananas'\n",
    "pattern = '\\d+'\n",
    "for search in re.finditer(pattern, string):\n",
    "    print(search.group(0))\n",
    "    print(\" Index position of the given number:\", search.start())\n",
    "\n"
   ]
  },
  {
   "cell_type": "code",
   "execution_count": 70,
   "id": "d6881f6e",
   "metadata": {},
   "outputs": [
    {
     "name": "stdout",
     "output_type": "stream",
     "text": [
      "Max value is: 4\n"
     ]
    }
   ],
   "source": [
    "#Question 22- Write a regular expression in python program to extract maximum/largest numeric value from a string.\n",
    "\n",
    "def max_numeric(string):\n",
    "    string = 'He has 4 apples and 2 bananas'\n",
    "    pattern = r'\\d+'\n",
    "    results = re.findall(pattern, string)\n",
    "    numbers = [int(result) for result in results]\n",
    "    max_number =  max(numbers)\n",
    "    return max_number\n",
    "max_value = max_numeric(string) \n",
    "print('Max value is:', max_value)"
   ]
  },
  {
   "cell_type": "code",
   "execution_count": 9,
   "id": "43962c13",
   "metadata": {},
   "outputs": [
    {
     "name": "stdout",
     "output_type": "stream",
     "text": [
      "Happy Us Is The Real Us\n"
     ]
    }
   ],
   "source": [
    "#Question 23- Create a function in python to insert spaces between words starting with capital letters.\n",
    "\n",
    "string = 'HappyUsIsTheRealUs'\n",
    "pattern = r'(\\w)([A-Z])'\n",
    "replace = r'\\1 \\2'\n",
    "result = re.sub(pattern, replace, string)\n",
    "print(result)"
   ]
  },
  {
   "cell_type": "code",
   "execution_count": 32,
   "id": "fefce4dc",
   "metadata": {},
   "outputs": [
    {
     "name": "stdout",
     "output_type": "stream",
     "text": [
      "['Time', 'Heal']\n"
     ]
    }
   ],
   "source": [
    "#Question 24- Python regex to find sequences of one upper case letter followed by lower case letters\n",
    "\n",
    "string = 'Time will Heal everything'\n",
    "pattern = r'[A-Z][a-z]+'\n",
    "result = re.findall(pattern,string)\n",
    "print(result)\n"
   ]
  },
  {
   "cell_type": "code",
   "execution_count": 78,
   "id": "18281b18",
   "metadata": {},
   "outputs": [
    {
     "name": "stdout",
     "output_type": "stream",
     "text": [
      "This is hello set.\n"
     ]
    }
   ],
   "source": [
    "#Question 25- Write a Python program to remove continuous duplicate words from Sentence using Regular Expression.\n",
    "\n",
    "string = 'This is hello hello set set.'\n",
    "pattern = r'\\b(\\w+)\\s\\1\\b'\n",
    "result = re.sub(pattern, r'\\1', string)\n",
    "print(result)"
   ]
  },
  {
   "cell_type": "code",
   "execution_count": 85,
   "id": "b3819511",
   "metadata": {
    "scrolled": true
   },
   "outputs": [
    {
     "name": "stdout",
     "output_type": "stream",
     "text": [
      "True\n",
      "False\n",
      "True\n",
      "True\n"
     ]
    }
   ],
   "source": [
    "#Question 26-  Write a python program using RegEx to accept string ending with alphanumeric character.\n",
    "\n",
    "def end_with_alphanumeric(string):\n",
    "    pattern = r'[a-zA-Z0-9]$'\n",
    "    result = re.search(pattern, string)\n",
    "    if result:\n",
    "        return True\n",
    "    else:\n",
    "        return False\n",
    "string1 = 'Jyotsna123'\n",
    "string2 = 'ghsdh$'\n",
    "string3 = '12344'\n",
    "string4 = 'happy12'\n",
    "    \n",
    "print(end_with_alphanumeric(string1))\n",
    "print(end_with_alphanumeric(string2))\n",
    "print(end_with_alphanumeric(string3))\n",
    "print(end_with_alphanumeric(string4))"
   ]
  },
  {
   "cell_type": "code",
   "execution_count": 63,
   "id": "d312de11",
   "metadata": {
    "scrolled": false
   },
   "outputs": [
    {
     "name": "stdout",
     "output_type": "stream",
     "text": [
      "['#gaming', '#swimmming', '#hobbies']\n"
     ]
    }
   ],
   "source": [
    "#Question 27-Write a python program using RegEx to extract the hashtags.\n",
    "\n",
    "string = 'He hates #gaming and loves #swimmming as #hobbies' \n",
    "pattern = r'\\#\\w+'\n",
    "result = re.findall(pattern, string)\n",
    "print(result)"
   ]
  },
  {
   "cell_type": "code",
   "execution_count": 107,
   "id": "55406b48",
   "metadata": {
    "scrolled": true
   },
   "outputs": [
    {
     "name": "stdout",
     "output_type": "stream",
     "text": [
      "Hey  there  !\n"
     ]
    }
   ],
   "source": [
    "#Question 28- Write a python program using RegEx to remove <U+..> like symbols\n",
    "\n",
    "\n",
    "string= 'Hey <U+adg123> there <U+dg65> !'\n",
    "pattern = r'<U\\+[a-g0-9]+>'\n",
    "replace = ''\n",
    "result = re.sub(pattern, replace, string)\n",
    "print(result)\n",
    "    "
   ]
  },
  {
   "cell_type": "code",
   "execution_count": 128,
   "id": "a71ffe57",
   "metadata": {},
   "outputs": [
    {
     "data": {
      "text/html": [
       "<div>\n",
       "<style scoped>\n",
       "    .dataframe tbody tr th:only-of-type {\n",
       "        vertical-align: middle;\n",
       "    }\n",
       "\n",
       "    .dataframe tbody tr th {\n",
       "        vertical-align: top;\n",
       "    }\n",
       "\n",
       "    .dataframe thead th {\n",
       "        text-align: right;\n",
       "    }\n",
       "</style>\n",
       "<table border=\"1\" class=\"dataframe\">\n",
       "  <thead>\n",
       "    <tr style=\"text-align: right;\">\n",
       "      <th></th>\n",
       "      <th>Ron was born on 12-09-1992 and he was admitted to school 15-12-1999.</th>\n",
       "    </tr>\n",
       "  </thead>\n",
       "  <tbody>\n",
       "  </tbody>\n",
       "</table>\n",
       "</div>"
      ],
      "text/plain": [
       "Empty DataFrame\n",
       "Columns: [Ron was born on 12-09-1992 and he was admitted to school 15-12-1999.]\n",
       "Index: []"
      ]
     },
     "execution_count": 128,
     "metadata": {},
     "output_type": "execute_result"
    }
   ],
   "source": [
    "#Question 29- Write a python program to extract dates from the text stored in the text file.\n",
    "\n",
    "import pandas as pd\n",
    "text = pd.read_csv(r'https://raw.githubusercontent.com/jyotsnadatatrained/MY-REPO/main/Book1.csv')\n",
    "text\n"
   ]
  },
  {
   "cell_type": "code",
   "execution_count": 66,
   "id": "ca8644f2",
   "metadata": {},
   "outputs": [
    {
     "name": "stdout",
     "output_type": "stream",
     "text": [
      "    Nidhi  i  a great personality\n"
     ]
    }
   ],
   "source": [
    "#Question 30- Create a function in python to remove all words from a string of length between 2 and 4.\n",
    "\n",
    "string = 'Hi my name is Nidhi and i am a great personality'\n",
    "pattern = r'\\b\\w{2,4}\\b'\n",
    "result = re.sub(pattern,'',string)\n",
    "print(result)"
   ]
  },
  {
   "cell_type": "code",
   "execution_count": null,
   "id": "2fc52b2d",
   "metadata": {},
   "outputs": [],
   "source": []
  },
  {
   "cell_type": "code",
   "execution_count": null,
   "id": "aff00834",
   "metadata": {
    "scrolled": true
   },
   "outputs": [],
   "source": []
  },
  {
   "cell_type": "code",
   "execution_count": null,
   "id": "ceb00240",
   "metadata": {
    "scrolled": false
   },
   "outputs": [],
   "source": []
  },
  {
   "cell_type": "code",
   "execution_count": null,
   "id": "58b7adb0",
   "metadata": {},
   "outputs": [],
   "source": []
  },
  {
   "cell_type": "code",
   "execution_count": null,
   "id": "8d5a49ee",
   "metadata": {},
   "outputs": [],
   "source": []
  },
  {
   "cell_type": "code",
   "execution_count": null,
   "id": "f2a2dc73",
   "metadata": {},
   "outputs": [],
   "source": []
  },
  {
   "cell_type": "code",
   "execution_count": null,
   "id": "46af6206",
   "metadata": {},
   "outputs": [],
   "source": []
  }
 ],
 "metadata": {
  "kernelspec": {
   "display_name": "Python 3 (ipykernel)",
   "language": "python",
   "name": "python3"
  },
  "language_info": {
   "codemirror_mode": {
    "name": "ipython",
    "version": 3
   },
   "file_extension": ".py",
   "mimetype": "text/x-python",
   "name": "python",
   "nbconvert_exporter": "python",
   "pygments_lexer": "ipython3",
   "version": "3.10.9"
  }
 },
 "nbformat": 4,
 "nbformat_minor": 5
}
